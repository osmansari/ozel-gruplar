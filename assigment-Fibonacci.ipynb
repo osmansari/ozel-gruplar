{
 "cells": [
  {
   "cell_type": "code",
   "execution_count": null,
   "metadata": {},
   "outputs": [],
   "source": [
    "sayı_1=1\n",
    "sayı_2=1\n",
    "sayı_3=0\n",
    "while sayı_3 <= 55 :\n",
    "  print(sayı_2)\n",
    "  sayı_3= sayı_1 + sayı_2\n",
    "  sayı_1 = sayı_2\n",
    "  sayı_2 = sayı_3\n",
    "\n",
    " \n",
    "  \n",
    "\n",
    "  \n",
    "\n",
    "  "
   ]
  },
  {
   "cell_type": "code",
   "execution_count": null,
   "metadata": {},
   "outputs": [],
   "source": []
  }
 ],
 "metadata": {
  "interpreter": {
   "hash": "d9a0c8568836ad20859eb754c68272b8224fe9b8cf30e49da0183e8e5c16220c"
  },
  "kernelspec": {
   "display_name": "Python 3.8.12 64-bit ('python_giris': conda)",
   "language": "python",
   "name": "python3"
  },
  "language_info": {
   "codemirror_mode": {
    "name": "ipython",
    "version": 3
   },
   "file_extension": ".py",
   "mimetype": "text/x-python",
   "name": "python",
   "nbconvert_exporter": "python",
   "pygments_lexer": "ipython3",
   "version": "3.8.8"
  },
  "orig_nbformat": 4
 },
 "nbformat": 4,
 "nbformat_minor": 2
}
